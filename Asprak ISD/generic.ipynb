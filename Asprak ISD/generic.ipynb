{
 "cells": [
  {
   "cell_type": "markdown",
   "metadata": {},
   "source": [
    "## Ini hanya untuk latihan"
   ]
  },
  {
   "cell_type": "code",
   "execution_count": 13,
   "metadata": {},
   "outputs": [],
   "source": [
    "#Untuk simpan itemnya\n",
    "class InventoryItem:\n",
    "    def __init__(self, code, item_type, name, stock):\n",
    "        self.code = code\n",
    "        self.item_type = item_type\n",
    "        self.name = name\n",
    "        self.stock = stock"
   ]
  },
  {
   "cell_type": "code",
   "execution_count": 14,
   "metadata": {},
   "outputs": [],
   "source": [
    "# Ini untuk generic classnya\n",
    "class InventoryManager:\n",
    "    def __init__(self):\n",
    "        self.inventory = []\n",
    "\n",
    "    def add_item(self, item):\n",
    "        self.inventory.append(item)\n",
    "\n",
    "    def remove_item(self, code):\n",
    "        self.inventory = [item for item in self.inventory if item.code != code]\n",
    "\n",
    "    def edit_item(self, code, new_item):\n",
    "        for i, item in enumerate(self.inventory):\n",
    "            if item.code == code:\n",
    "                self.inventory[i] = new_item\n",
    "\n",
    "    def display_inventory(self):\n",
    "        sorted_inventory = sorted(self.inventory, key=lambda x: x.code)\n",
    "        for item in sorted_inventory:\n",
    "            print(f\"Code: {item.code}, Type: {item.item_type}, Name: {item.name}, Stock: {item.stock}\")\n"
   ]
  },
  {
   "cell_type": "code",
   "execution_count": 15,
   "metadata": {},
   "outputs": [],
   "source": [
    "# Kurang lebih bisa dibilang pewarisan ke kelas InventoryItem\n",
    "# Alias nyimpen itemnya per di masing-masing produk\n",
    "class ATK(InventoryItem):\n",
    "    pass\n",
    "\n",
    "class Bag(InventoryItem):\n",
    "    pass"
   ]
  },
  {
   "cell_type": "code",
   "execution_count": 16,
   "metadata": {},
   "outputs": [
    {
     "name": "stdout",
     "output_type": "stream",
     "text": [
      "Data ATK:\n",
      "Code: A001, Type: Pulpen, Name: Snowman Board Marker, Stock: 50\n",
      "Code: A002, Type: Pensil, Name: Faber-Castell HB, Stock: 30\n",
      "Code: A003, Type: Spidol, Name: Sharpie Permanent Marker, Stock: 20\n",
      "Code: A004, Type: Pulpen, Name: Pilot G2 Gel Pen, Stock: 40\n",
      "Code: A005, Type: Pensil, Name: Mitsubishi 9800 Pencil, Stock: 25\n",
      "Code: B001, Type: Buku Tulis, Name: Oxford, Stock: 25\n",
      "Code: B002, Type: Buku Tulis, Name: front, Stock: 25\n",
      "Code: B003, Type: kertas HVS, Name: Prodigi, Stock: 25\n",
      "\n",
      "Data Bag:\n",
      "Code: C001, Type: Tempat Pensil, Name: Cute Pencil Case, Stock: 15\n",
      "Code: C002, Type: Tas, Name: Canvas Backpack, Stock: 10\n",
      "Code: C003, Type: Tempat Pensil, Name: Leather Pencil Holder, Stock: 18\n",
      "Code: C004, Type: Tas, Name: Laptop Sleeve, Stock: 12\n",
      "Code: C005, Type: Tempat Pensil, Name: Mesh Pencil Organizer, Stock: 20\n",
      "\n",
      "Data ATK setelah remove:\n",
      "Code: A001, Type: Pulpen, Name: Snowman Board Marker, Stock: 50\n",
      "Code: A002, Type: Pensil, Name: Faber-Castell HB, Stock: 30\n",
      "Code: A004, Type: Pulpen, Name: Pilot G2 Gel Pen, Stock: 40\n",
      "Code: A005, Type: Pensil, Name: Mitsubishi 9800 Pencil, Stock: 25\n",
      "Code: B001, Type: Buku Tulis, Name: Oxford, Stock: 25\n",
      "Code: B002, Type: Buku Tulis, Name: front, Stock: 25\n",
      "Code: B003, Type: kertas HVS, Name: Prodigi, Stock: 25\n",
      "\n",
      "Data Bag setelah remove:\n",
      "Code: C001, Type: Tempat Pensil, Name: Cute Pencil Case, Stock: 15\n",
      "Code: C002, Type: Tas, Name: Stylish Backpack, Stock: 8\n",
      "Code: C003, Type: Tempat Pensil, Name: Leather Pencil Holder, Stock: 18\n",
      "Code: C004, Type: Tas, Name: Laptop Sleeve, Stock: 12\n",
      "Code: C005, Type: Tempat Pensil, Name: Mesh Pencil Organizer, Stock: 20\n"
     ]
    }
   ],
   "source": [
    "def main():\n",
    "    atk_manager = InventoryManager()\n",
    "    bag_manager = InventoryManager()\n",
    "\n",
    "    # Menambahkan data untuk ATK\n",
    "    atk_manager.add_item(ATK(\"A001\", \"Pulpen\", \"Snowman Board Marker\", 50))\n",
    "    atk_manager.add_item(ATK(\"A002\", \"Pensil\", \"Faber-Castell HB\", 30))\n",
    "    atk_manager.add_item(ATK(\"A003\", \"Spidol\", \"Sharpie Permanent Marker\", 20))\n",
    "    atk_manager.add_item(ATK(\"A004\", \"Pulpen\", \"Pilot G2 Gel Pen\", 40))\n",
    "    atk_manager.add_item(ATK(\"A005\", \"Pensil\", \"Mitsubishi 9800 Pencil\", 25))\n",
    "    atk_manager.add_item(ATK(\"B001\", \"Buku Tulis\", \"Oxford\", 25))\n",
    "    atk_manager.add_item(ATK(\"B002\", \"Buku Tulis\", \"front\", 25))\n",
    "    atk_manager.add_item(ATK(\"B003\", \"kertas HVS\", \"Prodigi\", 25))\n",
    "\n",
    "    # Menambahkan data untuk Bag\n",
    "    bag_manager.add_item(Bag(\"C001\", \"Tempat Pensil\", \"Cute Pencil Case\", 15))\n",
    "    bag_manager.add_item(Bag(\"C002\", \"Tas\", \"Canvas Backpack\", 10))\n",
    "    bag_manager.add_item(Bag(\"C003\", \"Tempat Pensil\", \"Leather Pencil Holder\", 18))\n",
    "    bag_manager.add_item(Bag(\"C004\", \"Tas\", \"Laptop Sleeve\", 12))\n",
    "    bag_manager.add_item(Bag(\"C005\", \"Tempat Pensil\", \"Mesh Pencil Organizer\", 20))\n",
    "\n",
    "    # Menampilkan data\n",
    "    print(\"Data ATK:\")\n",
    "    atk_manager.display_inventory()\n",
    "\n",
    "    print(\"\\nData Bag:\")\n",
    "    bag_manager.display_inventory()\n",
    "\n",
    "    # Menghapus data ATK dengan code \"A003\"\n",
    "    atk_manager.remove_item(\"A003\")\n",
    "\n",
    "    # Mengedit data Bag dengan code \"C002\"\n",
    "    edited_bag = Bag(\"C002\", \"Tas\", \"Stylish Backpack\", 8)\n",
    "    bag_manager.edit_item(\"C002\", edited_bag)\n",
    "\n",
    "    # Menampilkan data setelah perubahan\n",
    "    print(\"\\nData ATK setelah remove:\")\n",
    "    atk_manager.display_inventory()\n",
    "\n",
    "    print(\"\\nData Bag setelah remove:\")\n",
    "    bag_manager.display_inventory()\n",
    "\n",
    "if __name__ == \"__main__\":\n",
    "    main()"
   ]
  }
 ],
 "metadata": {
  "kernelspec": {
   "display_name": "Python 3",
   "language": "python",
   "name": "python3"
  },
  "language_info": {
   "codemirror_mode": {
    "name": "ipython",
    "version": 3
   },
   "file_extension": ".py",
   "mimetype": "text/x-python",
   "name": "python",
   "nbconvert_exporter": "python",
   "pygments_lexer": "ipython3",
   "version": "3.12.0"
  }
 },
 "nbformat": 4,
 "nbformat_minor": 2
}
